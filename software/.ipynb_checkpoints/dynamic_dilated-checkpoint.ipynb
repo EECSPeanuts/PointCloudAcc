{
 "cells": [
  {
   "cell_type": "code",
   "execution_count": 4,
   "metadata": {
    "ExecuteTime": {
     "end_time": "2022-07-14T13:26:30.568921Z",
     "start_time": "2022-07-14T13:26:30.523468Z"
    }
   },
   "outputs": [
    {
     "name": "stdout",
     "output_type": "stream",
     "text": [
      "[ 45 -80 -10]\n"
     ]
    }
   ],
   "source": [
    "\n",
    "# Simulate hardware computation of dynamic dilated point method\n",
    "\n",
    "import numpy as np\n",
    "from numpy import random\n",
    "import math\n",
    "import pdb\n",
    "\n",
    "random.seed ( 0)\n",
    "# Predefined\n",
    "\n",
    "pointcloud = np.array([[random.randint(-127, 128) for col in range(0, 3)] for row in range(0, 1024)]) # 8bit range\n",
    "K = 24\n",
    "\n",
    "SRAM_storage = 30*1024 # 30 KB\n",
    "num_layer = 16\n",
    "ALU = 1\n",
    "\n",
    "# reserved inner layers for the points of current layer: determine when drop out inner layer\n",
    "num_inner_layer_margin = 2 \n",
    "\n",
    "print(pointcloud[0])\n",
    "\n",
    "def distance_euclidean(coordinate0, coordinate1):\n",
    "    coordinate0 = np.array(coordinate0)\n",
    "    coordinate1 = np.array(coordinate1)\n",
    "\n",
    "    return np.sqrt(np.sum(np.square(coordinate1-coordinate0)))\n",
    "def sort_pointcloud_by_distance(center, pointcloud): # sort according to distance of diff coord. but coord. not changed\n",
    "    '''\n",
    "    input: <pointcloud> the 2D array of (3D_coordinate+C); e.g. [ [0,0,0, C], [] ]\n",
    "    output: the sorted 2D array of (3D_coordinate+C+ sorted distance) array\n",
    "    '''\n",
    "    coord_diff = pointcloud[:, 0: 3] - center[0: 3]\n",
    "    num_point = pointcloud.shape[0]\n",
    "    pointcloud_distance = np.zeros([num_point])\n",
    "    for idx in range(num_point):\n",
    "        pointcloud_distance[idx] = distance_euclidean([0, 0, 0], coord_diff[idx])\n",
    "    # pdb.set_trace()\n",
    "    pointcloud_distance = pointcloud_distance.reshape(num_point, 1)\n",
    "\n",
    "    # pointcloud[:, 0: 3] = coord_diff # replace with diff coord\n",
    "    pointcloud = np.c_[pointcloud, pointcloud_distance]\n",
    "\n",
    "\n",
    "    return pointcloud[np.lexsort(pointcloud.T)]"
   ]
  },
  {
   "cell_type": "code",
   "execution_count": null,
   "metadata": {},
   "outputs": [],
   "source": [
    "# Test lexsort\n",
    "array = np.array([[1, 3, 2], [10, 9, 1]])\n",
    "array[array.lexsort(array.T)]"
   ]
  },
  {
   "cell_type": "code",
   "execution_count": 5,
   "metadata": {
    "ExecuteTime": {
     "end_time": "2022-07-14T13:26:32.003715Z",
     "start_time": "2022-07-14T13:26:31.959565Z"
    }
   },
   "outputs": [
    {
     "name": "stdout",
     "output_type": "stream",
     "text": [
      "[-2.         -7.          1.          7.34846923  0.        ]\n",
      "[[  7.34846923]\n",
      " [ 14.17744688]\n",
      " [ 18.70828693]\n",
      " ...\n",
      " [208.50659462]\n",
      " [210.3520858 ]\n",
      " [217.66258291]]\n"
     ]
    }
   ],
   "source": [
    "\n",
    "# Intermediate variable\n",
    "num_point = pointcloud.shape[0]\n",
    "center_point = [0, 0, 0]\n",
    "\n",
    "# Sort according to distance to (0, 0, 0) \n",
    "# pdb.set_trace()\n",
    "pointcloud = sort_pointcloud_by_distance(np.array([0, 0, 0]), pointcloud)\n",
    "\n",
    "pointcloud = np.c_[pointcloud, np.arange(num_point).reshape(num_point, 1)] # [3D coord., dist, idx]\n",
    "\n",
    "print(pointcloud[0])\n",
    "print(pointcloud[:, 3:4])\n",
    "\n",
    "# coordinate sets of splitted layers\n",
    "\n",
    "num_point_per_layer = math.ceil(num_point/num_layer)\n",
    "layers = np.zeros([num_layer, num_point_per_layer, pointcloud.shape[1]])\n",
    "for idx in range( num_layer ):\n",
    "    layers[idx] = pointcloud[num_point_per_layer*idx : num_point_per_layer*(idx+1)]\n",
    "\n"
   ]
  },
  {
   "cell_type": "code",
   "execution_count": 7,
   "metadata": {
    "ExecuteTime": {
     "end_time": "2022-07-14T13:28:41.351461Z",
     "start_time": "2022-07-14T13:27:05.521028Z"
    }
   },
   "outputs": [
    {
     "name": "stdout",
     "output_type": "stream",
     "text": [
      "> <ipython-input-7-b58922720272>(43)<module>()\n",
      "-> sorted_cur_layer_by_distance2cur_point = sort_pointcloud_by_distance(pointcloud[cur_idx], cur_layer) # [3D coord., dist, idx, distance]\n",
      "(Pdb) p cur_idx\n",
      "0\n",
      "(Pdb) p pointcloud[0]\n",
      "array([-2.        , -7.        ,  1.        ,  7.34846923,  0.        ])\n",
      "(Pdb) p cur_layer[0]\n",
      "array([-2.        , -7.        ,  1.        ,  7.34846923,  0.        ])\n",
      "(Pdb) p cur_layer[0:5]\n",
      "array([[ -2.        ,  -7.        ,   1.        ,   7.34846923,\n",
      "          0.        ],\n",
      "       [  2.        , -14.        ,   1.        ,  14.17744688,\n",
      "          1.        ],\n",
      "       [ -2.        ,  11.        , -15.        ,  18.70828693,\n",
      "          2.        ],\n",
      "       [ -3.        , -18.        ,  -9.        ,  20.34698995,\n",
      "          3.        ],\n",
      "       [-11.        , -23.        ,  -1.        ,  25.51470164,\n",
      "          4.        ]])\n",
      "(Pdb) \n",
      "array([[ -2.        ,  -7.        ,   1.        ,   7.34846923,\n",
      "          0.        ],\n",
      "       [  2.        , -14.        ,   1.        ,  14.17744688,\n",
      "          1.        ],\n",
      "       [ -2.        ,  11.        , -15.        ,  18.70828693,\n",
      "          2.        ],\n",
      "       [ -3.        , -18.        ,  -9.        ,  20.34698995,\n",
      "          3.        ],\n",
      "       [-11.        , -23.        ,  -1.        ,  25.51470164,\n",
      "          4.        ]])\n",
      "(Pdb) c\n"
     ]
    },
    {
     "ename": "TypeError",
     "evalue": "unsupported operand type(s) for ^: 'int' and 'float'",
     "output_type": "error",
     "traceback": [
      "\u001b[0;31m---------------------------------------------------------------------------\u001b[0m",
      "\u001b[0;31mTypeError\u001b[0m                                 Traceback (most recent call last)",
      "\u001b[0;32m<ipython-input-7-b58922720272>\u001b[0m in \u001b[0;36m<module>\u001b[0;34m()\u001b[0m\n\u001b[1;32m     41\u001b[0m     \u001b[0;31m# First step: knn sort in cur_layer\u001b[0m\u001b[0;34m\u001b[0m\u001b[0;34m\u001b[0m\u001b[0m\n\u001b[1;32m     42\u001b[0m     \u001b[0mpdb\u001b[0m\u001b[0;34m.\u001b[0m\u001b[0mset_trace\u001b[0m\u001b[0;34m(\u001b[0m\u001b[0;34m)\u001b[0m\u001b[0;34m\u001b[0m\u001b[0m\n\u001b[0;32m---> 43\u001b[0;31m     \u001b[0msorted_cur_layer_by_distance2cur_point\u001b[0m \u001b[0;34m=\u001b[0m \u001b[0msort_pointcloud_by_distance\u001b[0m\u001b[0;34m(\u001b[0m\u001b[0mpointcloud\u001b[0m\u001b[0;34m[\u001b[0m\u001b[0mcur_idx\u001b[0m\u001b[0;34m]\u001b[0m\u001b[0;34m,\u001b[0m \u001b[0mcur_layer\u001b[0m\u001b[0;34m)\u001b[0m \u001b[0;31m# [3D coord., dist, idx, distance]\u001b[0m\u001b[0;34m\u001b[0m\u001b[0m\n\u001b[0m\u001b[1;32m     44\u001b[0m     \u001b[0mstats_offchip_access\u001b[0m \u001b[0;34m+=\u001b[0m \u001b[0mnp\u001b[0m\u001b[0;34m.\u001b[0m\u001b[0msize\u001b[0m\u001b[0;34m(\u001b[0m\u001b[0mpointcloud\u001b[0m\u001b[0;34m[\u001b[0m\u001b[0mcur_idx\u001b[0m\u001b[0;34m]\u001b[0m\u001b[0;34m)\u001b[0m\u001b[0;34m\u001b[0m\u001b[0m\n\u001b[1;32m     45\u001b[0m \u001b[0;34m\u001b[0m\u001b[0m\n",
      "\u001b[0;31mTypeError\u001b[0m: unsupported operand type(s) for ^: 'int' and 'float'"
     ]
    }
   ],
   "source": [
    "\n",
    "# Initalize\n",
    "\n",
    "# On-chip\n",
    "idx_layer = [0]\n",
    "cur_layer = layers[idx_layer[0]] # [3D coord., dist, idx]\n",
    "\n",
    "\n",
    "knn_map = []\n",
    "knn_map_idx = []\n",
    "\n",
    "# Statistic Results\n",
    "stats_offchip_access = 0\n",
    "stats_computation_mul = 0\n",
    "stats_computation_add = 0\n",
    "stats_computation_cycle = 0\n",
    "for cur_idx in range(num_point): # serial processing all points according sorted distance\n",
    "\n",
    "    stats_computation_add += 1\n",
    "    ###########################################\n",
    "    # position of cur_idx induced supplement inner/outer layer\n",
    "    while ( (idx_layer[0] != 0) and cur_idx < cur_layer[0][4]): # # supplement inter layer\n",
    "        idx_layer.insert(0, idx_layer[0]-1)\n",
    "        cur_layer = np.r_[layers[idx_layer[0]], cur_layer]\n",
    "        stats_offchip_access += np.size(layers[idx_layer[0]])\n",
    "    while ( (idx_layer[-1] != num_layer -1) and cur_idx > cur_layer[-1][4]): \n",
    "        idx_layer.append(idx_layer[-1]+1)\n",
    "        cur_layer = np.r_[cur_layer, layers[idx_layer[-1]]]\n",
    "        stats_offchip_access += np.size(layers[idx_layer[-1]])\n",
    "\n",
    "    ###########################################\n",
    "    # position of cur_idx induced dropout inner layer\n",
    "    for i_idx_layer in idx_layer:\n",
    "        if cur_idx in cur_layer[num_point_per_layer*i_idx_layer : num_point_per_layer*(i_idx_layer+1)][:, 4].reshape(1, cur_layer.shape[0]):\n",
    "            num_dropout_inner_layer = i_idx_layer-idx_layer[0]-num_inner_layer_margin\n",
    "            if num_dropout_inner_layer > 0:\n",
    "                # del idx_layer[: num_dropout_inner_layer]\n",
    "                cur_layer = np.delete(cur_layer, range(0, num_point_per_layer*num_dropout_inner_layer), axis=0)\n",
    "    \n",
    "    ###########################################\n",
    "    # First step: knn sort in cur_layer\n",
    "    pdb.set_trace()\n",
    "    sorted_cur_layer_by_distance2cur_point = sort_pointcloud_by_distance(pointcloud[cur_idx], cur_layer) # [3D coord., dist, idx, distance]\n",
    "    stats_offchip_access += np.size(pointcloud[cur_idx]) \n",
    "\n",
    "    # diff + square_add + sort\n",
    "    stats_computation_add += np.size(cur_layer, 0)*3 + np.size(cur_layer, 0)*2 + np.size(cur_layer, 0)^2/2\n",
    "    # square + sqrt = mul*4\n",
    "    stats_computation_mul += np.size(cur_layer, 0)*3 + np.size(cur_layer, 0)*4\n",
    "\n",
    "    stats_computation_cycle += (np.size(cur_layer, 0)**2) /2 / ALU\n",
    "\n",
    "    ###########################################\n",
    "    # Second step: supplement sorted neighbor points by neighbor layers\n",
    "    for k in range(K):\n",
    "        while   ( (idx_layer[0] != 0) and \n",
    "                    (sorted_cur_layer_by_distance2cur_point[k][-1] > # max distance_Kth2cur\n",
    "                        distance_euclidean([0, 0, 0], pointcloud[cur_idx][0: 3]) - distance_euclidean([0, 0, 0], cur_layer[0][0: 3]))\n",
    "                ): # supplement inter layer\n",
    "            idx_layer.insert(0, idx_layer[0]-1)\n",
    "            cur_layer = np.r_[layers[idx_layer[0]], cur_layer]\n",
    "            stats_offchip_access += np.size(layers[idx_layer[0]])\n",
    "            ### Next step: Instance module \n",
    "            #############################################################\n",
    "            # instance module of sorted according to distance2cur_point\n",
    "            sorted_newlayer_by_distance2cur_point = sort_pointcloud_by_distance(pointcloud[cur_idx], layers[idx_layer[-1]])\n",
    "           \n",
    "            # \n",
    "            stats_computation_add += np.size(layers[idx_layer[-1]], 0)*3 + np.size(layers[idx_layer[-1]], 0)*2 + np.size(layers[idx_layer[-1]], 0)^2/2\n",
    "            # sqrt = mul*4\n",
    "            stats_computation_mul += np.size(layers[idx_layer[-1]], 0)*3 + np.size(layers[idx_layer[-1]], 0)*4\n",
    "            stats_computation_cycle += (np.size(layers[idx_layer[-1]], 0)**2) /2 / ALU\n",
    "\n",
    "            # uncertain (K-i) neighbor points need to seleted the miminum of (K-i) of cur_layer and (K-i) of newlayer.\n",
    "            double_rest_points = np.r_[sorted_cur_layer_by_distance2cur_point[k: K], sorted_newlayer_by_distance2cur_point[0 : K-k]]\n",
    "\n",
    "            # update farther positions of cur_layer_temp[i: K]\n",
    "            double_rest_points = double_rest_points[np.lexsort(double_rest_points.T)]\n",
    "            sorted_cur_layer_by_distance2cur_point[k: K] = double_rest_points[0: K-k]\n",
    "            #############################################################\n",
    "\n",
    "        while   (   (idx_layer[-1] != num_layer -1) and\n",
    "                    (sorted_cur_layer_by_distance2cur_point[k][-1] > \n",
    "                        -(distance_euclidean([0, 0, 0], pointcloud[cur_idx][0: 3]) - distance_euclidean([0, 0, 0], cur_layer[-1][0: 3])))\n",
    "                    ): # expand inter layer\n",
    "            idx_layer.append(idx_layer[-1]+1)\n",
    "            cur_layer = np.r_[cur_layer, layers[idx_layer[-1]]]\n",
    "            stats_offchip_access += np.size(layers[idx_layer[-1]])\n",
    "\n",
    "            #############################################################\n",
    "            # instance module of sorted according to distance2cur_point\n",
    "            sorted_newlayer_by_distance2cur_point = sort_pointcloud_by_distance(pointcloud[cur_idx], layers[idx_layer[-1]])\n",
    "        \n",
    "            # \n",
    "            stats_computation_add += np.size(layers[idx_layer[-1]], 0)*3 + np.size(layers[idx_layer[-1]], 0)*2 + + np.size(layers[idx_layer[-1]], 0)^2/2\n",
    "            # sqrt = mul*4\n",
    "            stats_computation_mul += np.size(layers[idx_layer[-1]], 0)*3 + np.size(layers[idx_layer[-1]], 0)*4\n",
    "            stats_computation_cycle += (np.size(layers[idx_layer[-1]], 0) **2)/2 / ALU\n",
    "\n",
    "            # pdb.set_trace()\n",
    "            # uncertain (K-i) neighbor points need to seleted the miminum of (K-i) of cur_layer and (K-i) of newlayer.\n",
    "            double_rest_points = np.r_[sorted_cur_layer_by_distance2cur_point[k: K], sorted_newlayer_by_distance2cur_point[0 : K-k]]\n",
    "\n",
    "            # update farther positions of cur_layer_temp[i: K]\n",
    "            double_rest_points = double_rest_points[np.lexsort(double_rest_points.T)]\n",
    "            stats_computation_cycle += (np.size(double_rest_points, 0)**2 ) /2 / ALU\n",
    "\n",
    "            sorted_cur_layer_by_distance2cur_point[k: K] = double_rest_points[0: K-k]\n",
    "            #############################################################\n",
    "\n",
    "    knn_map.append( np.r_[np.c_(pointcloud[cur_idx].reshape(1, 5), np.array([0]) ), sorted_cur_layer_by_distance2cur_point[0: K, 0: 6]] ) # store distance and index\n",
    "    knn_map_idx.append( np.r_[np.array(cur_idx), sorted_cur_layer_by_distance2cur_point[0: K, 4]] )\n",
    "    stats_offchip_access += len(knn_map_idx[-1]) # write knn_map_idx[-1]\n",
    "\n",
    "    # cur_layer.shape[0]: distance of sorted_cur_layer_by_distance2cur_point and sorted_newlayer_by_distance2cur_point\n",
    "    stats_onchip_storage = len(idx_layer) + np.size(cur_layer) + cur_layer.shape[0]\n",
    "\n"
   ]
  },
  {
   "cell_type": "code",
   "execution_count": null,
   "metadata": {},
   "outputs": [],
   "source": [
    "# Check and Visualize\n",
    "\n",
    "import matplotlib.pyplot as plt\n",
    "# Creating figure\n",
    "fig = plt.figure(figsize=(10, 7))\n",
    "ax = plt.axes(projection=\"3d\")\n",
    "\n",
    "# Creating plot\n",
    "ax.scatter3D(x, y, z, color=\"green\")\n",
    "plt.title(\"simple 3D scatter plot\")\n",
    "\n",
    "# show plot\n",
    "plt.show()\n",
    "\n"
   ]
  }
 ],
 "metadata": {
  "kernelspec": {
   "display_name": "Python 3",
   "language": "python",
   "name": "python3"
  },
  "language_info": {
   "codemirror_mode": {
    "name": "ipython",
    "version": 3
   },
   "file_extension": ".py",
   "mimetype": "text/x-python",
   "name": "python",
   "nbconvert_exporter": "python",
   "pygments_lexer": "ipython3",
   "version": "3.6.5"
  },
  "toc": {
   "base_numbering": 1,
   "nav_menu": {},
   "number_sections": true,
   "sideBar": true,
   "skip_h1_title": false,
   "title_cell": "Table of Contents",
   "title_sidebar": "Contents",
   "toc_cell": false,
   "toc_position": {},
   "toc_section_display": true,
   "toc_window_display": false
  },
  "varInspector": {
   "cols": {
    "lenName": 16,
    "lenType": 16,
    "lenVar": 40
   },
   "kernels_config": {
    "python": {
     "delete_cmd_postfix": "",
     "delete_cmd_prefix": "del ",
     "library": "var_list.py",
     "varRefreshCmd": "print(var_dic_list())"
    },
    "r": {
     "delete_cmd_postfix": ") ",
     "delete_cmd_prefix": "rm(",
     "library": "var_list.r",
     "varRefreshCmd": "cat(var_dic_list()) "
    }
   },
   "types_to_exclude": [
    "module",
    "function",
    "builtin_function_or_method",
    "instance",
    "_Feature"
   ],
   "window_display": false
  },
  "vscode": {
   "interpreter": {
    "hash": "ad2bdc8ecc057115af97d19610ffacc2b4e99fae6737bb82f5d7fb13d2f2c186"
   }
  }
 },
 "nbformat": 4,
 "nbformat_minor": 2
}
